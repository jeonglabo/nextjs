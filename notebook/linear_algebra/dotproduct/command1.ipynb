{
  "cells": [
    {
      "cell_type": "markdown",
      "metadata": {
        "id": "4WLEx7UMmEaG"
      },
      "source": [
        "pythonでhelloworldを出力するコードです"
      ]
    },
    {
      "cell_type": "code",
      "execution_count": 2,
      "metadata": {
        "vscode": {
          "languageId": "plaintext"
        },
        "colab": {
          "base_uri": "https://localhost:8080/"
        },
        "id": "yT4uA3v2mEaJ",
        "outputId": "0888d2e1-f2bf-4e56-e37d-a89f81ea9492"
      },
      "outputs": [
        {
          "output_type": "stream",
          "name": "stdout",
          "text": [
            "Hello world!!!!!!!!!!!!!!\n"
          ]
        }
      ],
      "source": [
        "print(\"Hello world!!!!!!!!!!!!!!\")"
      ]
    }
  ],
  "metadata": {
    "language_info": {
      "name": "python"
    },
    "colab": {
      "provenance": []
    },
    "kernelspec": {
      "name": "python3",
      "display_name": "Python 3"
    }
  },
  "nbformat": 4,
  "nbformat_minor": 0
}