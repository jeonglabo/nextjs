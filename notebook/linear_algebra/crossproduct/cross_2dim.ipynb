{
 "cells": [
  {
   "cell_type": "markdown",
   "metadata": {},
   "source": [
    "# ベクトルの外積\n",
    "\n",
    "ここではベクトルの外積を視覚的に表示するプログラムが書かれています。\n",
    "\n",
    "ぜひプログラム内の値を変更してみてください。"
   ]
  },
  {
   "cell_type": "markdown",
   "metadata": {},
   "source": [
    "## 注意事項\n",
    "\n",
    "- 「Googleへのログインが必要」と出たら、自分のGoogleアカウントでログインします。\n",
    "\n",
    "- 「警告: このノートブックは Google が作成したものではありません。」と出たら「このまま実行」をクリックします。"
   ]
  },
  {
   "cell_type": "code",
   "execution_count": null,
   "metadata": {},
   "outputs": [],
   "source": [
    "import numpy as np\n",
    "import matplotlib.pyplot as plt\n",
    "\n",
    "# ベクトルの定義\n",
    "a = np.array([3, 1])\n",
    "b = np.array([1, 4])\n",
    "\n",
    "# 外積の計算 (2Dベクトルの場合、スカラー値になります)\n",
    "cross_product = np.cross(a, b)\n",
    "\n",
    "# 射影ベクトルの計算\n",
    "projection_ab = (np.dot(a, b) / np.dot(a, a)) * a\n",
    "\n",
    "# プロットの設定\n",
    "plt.figure(figsize=(8, 6))\n",
    "plt.axhline(y=0, color='k', linestyle='--')\n",
    "plt.axvline(x=0, color='k', linestyle='--')\n",
    "\n",
    "# ベクトルの描画\n",
    "plt.quiver(0, 0, a[0], a[1], angles='xy', scale_units='xy', scale=1, color='r', label='Vector a')\n",
    "plt.quiver(0, 0, b[0], b[1], angles='xy', scale_units='xy', scale=1, color='b', label='Vector b')\n",
    "\n",
    "# 平行四辺形の描画\n",
    "plt.fill([0, a[0], a[0] + b[0], b[0]], [0, a[1], a[1] + b[1], b[1]], 'lightgray', alpha=0.5)\n",
    "\n",
    "# プロットの範囲設定\n",
    "plt.xlim(-1, 6)\n",
    "plt.ylim(-1, 6)\n",
    "\n",
    "# ラベルと凡例の追加\n",
    "plt.xlabel('x')\n",
    "plt.ylabel('y')\n",
    "plt.title(f'Cross Product of vector a and b: {cross_product}')\n",
    "plt.legend()\n",
    "plt.grid(True)\n",
    "\n",
    "# 外積の大きさを表示\n",
    "plt.text(1.5 , 2.5, f'|a × b| = {abs(cross_product)}', fontsize=12,\n",
    "         bbox=dict(facecolor='white', alpha=0.5))\n",
    "\n",
    "# プロットの表示\n",
    "plt.show()"
   ]
  }
 ],
 "metadata": {
  "kernelspec": {
   "display_name": "Python 3",
   "language": "python",
   "name": "python3"
  },
  "language_info": {
   "name": "python",
   "version": "3.12.7"
  }
 },
 "nbformat": 4,
 "nbformat_minor": 2
}
